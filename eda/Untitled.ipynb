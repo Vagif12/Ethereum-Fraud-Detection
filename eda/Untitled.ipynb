{
 "cells": [
  {
   "cell_type": "code",
   "execution_count": 33,
   "metadata": {},
   "outputs": [],
   "source": [
    "import sys\n",
    "sys.path.append(\"..\")"
   ]
  },
  {
   "cell_type": "code",
   "execution_count": 60,
   "metadata": {},
   "outputs": [],
   "source": [
    "import pandas as pd\n",
    "import numpy as np\n",
    "from xgboost import XGBClassifier\n",
    "from sklearn.model_selection import StratifiedKFold,cross_val_score\n",
    "from sklearn.metrics import f1_score,classification_report,confusion_matrix\n",
    "\n",
    "from data_preprocessing.preprocessor import Preprocessor\n"
   ]
  },
  {
   "cell_type": "code",
   "execution_count": 35,
   "metadata": {},
   "outputs": [],
   "source": [
    "df = pd.read_csv('../datasets/final_combined_dataset.csv')"
   ]
  },
  {
   "cell_type": "code",
   "execution_count": 77,
   "metadata": {},
   "outputs": [],
   "source": [
    "class FraudDetector:\n",
    "    def __init__(self,df):\n",
    "        self.df = df.copy()\n",
    "        self.X_nan = None\n",
    "        self.y_nan = None\n",
    "        self.df_dropped = None\n",
    "        self.X,self.y = None,None\n",
    "        self.X_train,self.X_test,self.y_train,self.y_test = None,None,None,None\n",
    "        self.xgb = None\n",
    "        self.skf = StratifiedKFold(n_splits=5,random_state=42,shuffle=True)\n",
    "        \n",
    "    def preprocess(self):\n",
    "        preprocessor = Preprocessor(self.df)\n",
    "        preprocessor.clean()\n",
    "        \n",
    "    def extract_nan_features(self):\n",
    "        self.X_nan = self.df[self.df.isnull().T.any()].drop('FLAG',axis=1)\n",
    "        self.y_nan = self.df[self.df.isnull().T.any()]['FLAG']\n",
    "        \n",
    "    def define_features_labels(self):\n",
    "        self.df_dropped = self.df.dropna()\n",
    "        self.X,self.y = self.df_dropped.drop('FLAG',axis=1),self.df_dropped['FLAG']\n",
    "        \n",
    "    def split_data(self):\n",
    "        for train_index,test_index in skf.split(self.X,self.y):\n",
    "            self.X_train,self.X_test = self.X.iloc[train_index],self.X.iloc[test_index],\n",
    "            self.y_train,self.y_test = self.y.iloc[train_index],self.y.iloc[test_index]\n",
    "            \n",
    "    def combine_features(self):\n",
    "        y_train_combined = np.concatenate([self.y_train,self.y_nan])\n",
    "        X_train_combined = pd.concat([self.X_train,self.X_nan])\n",
    "        return X_train_combined, y_train_combined\n",
    "    \n",
    "    def train_model(self):\n",
    "        self.preprocess()\n",
    "        self.extract_nan_features()\n",
    "        self.define_features_labels()\n",
    "        self.split_data()\n",
    "        self.X_train_combined,self.y_train_combined = self.combine_features()\n",
    "        \n",
    "        self.xgb = XGBClassifier(n_estimators=100,max_depth=4,random_state=42)\n",
    "        self.xgb.fit(self.X_train_combined,self.y_train_combined)\n",
    "        \n",
    "    def evaluate(self):\n",
    "        predictions = self.xgb.predict(self.X_test)\n",
    "        print(cross_val_score(self.xgb,self.X_train_combined,self.y_train_combined,cv=self.skf,scoring='f1').mean())\n",
    "        print(f1_score(self.y_test,predictions))"
   ]
  },
  {
   "cell_type": "code",
   "execution_count": 78,
   "metadata": {},
   "outputs": [],
   "source": [
    "detector = FraudDetector(df)"
   ]
  },
  {
   "cell_type": "code",
   "execution_count": 79,
   "metadata": {},
   "outputs": [],
   "source": [
    "detector.train_model()"
   ]
  },
  {
   "cell_type": "code",
   "execution_count": 80,
   "metadata": {
    "scrolled": true
   },
   "outputs": [
    {
     "name": "stdout",
     "output_type": "stream",
     "text": [
      "0.9641969093646034\n",
      "0.9427917620137299\n"
     ]
    }
   ],
   "source": [
    "detector.evaluate()"
   ]
  },
  {
   "cell_type": "code",
   "execution_count": null,
   "metadata": {},
   "outputs": [],
   "source": []
  }
 ],
 "metadata": {
  "kernelspec": {
   "display_name": "Python 3",
   "language": "python",
   "name": "python3"
  },
  "language_info": {
   "codemirror_mode": {
    "name": "ipython",
    "version": 3
   },
   "file_extension": ".py",
   "mimetype": "text/x-python",
   "name": "python",
   "nbconvert_exporter": "python",
   "pygments_lexer": "ipython3",
   "version": "3.7.4"
  }
 },
 "nbformat": 4,
 "nbformat_minor": 4
}
